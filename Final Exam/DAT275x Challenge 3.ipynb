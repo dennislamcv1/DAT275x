{
 "cells": [
  {
   "cell_type": "code",
   "execution_count": 28,
   "metadata": {},
   "outputs": [],
   "source": [
    "import numpy as np\n",
    "import pandas as pd\n",
    "import matplotlib.pyplot as plt\n",
    "import seaborn as sns\n",
    "import math\n",
    "\n",
    "%matplotlib inline\n",
    "\n",
    "from sklearn.model_selection import cross_val_score, train_test_split\n",
    "\n",
    "from sklearn.ensemble import GradientBoostingRegressor\n",
    "\n",
    "from sklearn.metrics import mean_absolute_error, mean_squared_error, r2_score"
   ]
  },
  {
   "cell_type": "code",
   "execution_count": 2,
   "metadata": {},
   "outputs": [],
   "source": [
    "df = pd.read_csv(\"trainregressor.csv\")"
   ]
  },
  {
   "cell_type": "code",
   "execution_count": 3,
   "metadata": {},
   "outputs": [
    {
     "data": {
      "text/html": [
       "<div>\n",
       "<style scoped>\n",
       "    .dataframe tbody tr th:only-of-type {\n",
       "        vertical-align: middle;\n",
       "    }\n",
       "\n",
       "    .dataframe tbody tr th {\n",
       "        vertical-align: top;\n",
       "    }\n",
       "\n",
       "    .dataframe thead th {\n",
       "        text-align: right;\n",
       "    }\n",
       "</style>\n",
       "<table border=\"1\" class=\"dataframe\">\n",
       "  <thead>\n",
       "    <tr style=\"text-align: right;\">\n",
       "      <th></th>\n",
       "      <th>0</th>\n",
       "      <th>1</th>\n",
       "      <th>2</th>\n",
       "      <th>3</th>\n",
       "      <th>4</th>\n",
       "      <th>5</th>\n",
       "      <th>6</th>\n",
       "      <th>7</th>\n",
       "      <th>Gender</th>\n",
       "      <th>MaritalStatus</th>\n",
       "      <th>HomeOwnerFlag</th>\n",
       "      <th>NumberCarsOwned</th>\n",
       "      <th>NumberChildrenAtHome</th>\n",
       "      <th>TotalChildren</th>\n",
       "      <th>YearlyIncome</th>\n",
       "      <th>Age</th>\n",
       "      <th>AveMonthSpend</th>\n",
       "    </tr>\n",
       "  </thead>\n",
       "  <tbody>\n",
       "    <tr>\n",
       "      <th>0</th>\n",
       "      <td>0</td>\n",
       "      <td>0</td>\n",
       "      <td>0</td>\n",
       "      <td>0</td>\n",
       "      <td>0</td>\n",
       "      <td>0</td>\n",
       "      <td>1</td>\n",
       "      <td>0</td>\n",
       "      <td>1</td>\n",
       "      <td>0</td>\n",
       "      <td>1</td>\n",
       "      <td>-1.320246</td>\n",
       "      <td>-0.656710</td>\n",
       "      <td>-0.006876</td>\n",
       "      <td>1.502657</td>\n",
       "      <td>-0.396685</td>\n",
       "      <td>89</td>\n",
       "    </tr>\n",
       "    <tr>\n",
       "      <th>1</th>\n",
       "      <td>0</td>\n",
       "      <td>0</td>\n",
       "      <td>0</td>\n",
       "      <td>0</td>\n",
       "      <td>0</td>\n",
       "      <td>0</td>\n",
       "      <td>1</td>\n",
       "      <td>0</td>\n",
       "      <td>1</td>\n",
       "      <td>1</td>\n",
       "      <td>0</td>\n",
       "      <td>-0.442232</td>\n",
       "      <td>1.320040</td>\n",
       "      <td>0.587186</td>\n",
       "      <td>0.576502</td>\n",
       "      <td>-0.307694</td>\n",
       "      <td>117</td>\n",
       "    </tr>\n",
       "    <tr>\n",
       "      <th>2</th>\n",
       "      <td>0</td>\n",
       "      <td>0</td>\n",
       "      <td>0</td>\n",
       "      <td>0</td>\n",
       "      <td>0</td>\n",
       "      <td>0</td>\n",
       "      <td>1</td>\n",
       "      <td>0</td>\n",
       "      <td>1</td>\n",
       "      <td>0</td>\n",
       "      <td>1</td>\n",
       "      <td>-0.442232</td>\n",
       "      <td>1.320040</td>\n",
       "      <td>0.587186</td>\n",
       "      <td>0.345102</td>\n",
       "      <td>-0.307694</td>\n",
       "      <td>123</td>\n",
       "    </tr>\n",
       "    <tr>\n",
       "      <th>3</th>\n",
       "      <td>0</td>\n",
       "      <td>0</td>\n",
       "      <td>0</td>\n",
       "      <td>0</td>\n",
       "      <td>0</td>\n",
       "      <td>0</td>\n",
       "      <td>1</td>\n",
       "      <td>0</td>\n",
       "      <td>0</td>\n",
       "      <td>1</td>\n",
       "      <td>0</td>\n",
       "      <td>-0.442232</td>\n",
       "      <td>-0.656710</td>\n",
       "      <td>-1.195002</td>\n",
       "      <td>0.212819</td>\n",
       "      <td>-0.574666</td>\n",
       "      <td>50</td>\n",
       "    </tr>\n",
       "    <tr>\n",
       "      <th>4</th>\n",
       "      <td>0</td>\n",
       "      <td>0</td>\n",
       "      <td>0</td>\n",
       "      <td>0</td>\n",
       "      <td>0</td>\n",
       "      <td>0</td>\n",
       "      <td>1</td>\n",
       "      <td>0</td>\n",
       "      <td>0</td>\n",
       "      <td>1</td>\n",
       "      <td>1</td>\n",
       "      <td>2.191812</td>\n",
       "      <td>2.637874</td>\n",
       "      <td>1.775311</td>\n",
       "      <td>0.365887</td>\n",
       "      <td>-0.574666</td>\n",
       "      <td>95</td>\n",
       "    </tr>\n",
       "  </tbody>\n",
       "</table>\n",
       "</div>"
      ],
      "text/plain": [
       "   0  1  2  3  4  5  6  7  Gender  MaritalStatus  HomeOwnerFlag  \\\n",
       "0  0  0  0  0  0  0  1  0       1              0              1   \n",
       "1  0  0  0  0  0  0  1  0       1              1              0   \n",
       "2  0  0  0  0  0  0  1  0       1              0              1   \n",
       "3  0  0  0  0  0  0  1  0       0              1              0   \n",
       "4  0  0  0  0  0  0  1  0       0              1              1   \n",
       "\n",
       "   NumberCarsOwned  NumberChildrenAtHome  TotalChildren  YearlyIncome  \\\n",
       "0        -1.320246             -0.656710      -0.006876      1.502657   \n",
       "1        -0.442232              1.320040       0.587186      0.576502   \n",
       "2        -0.442232              1.320040       0.587186      0.345102   \n",
       "3        -0.442232             -0.656710      -1.195002      0.212819   \n",
       "4         2.191812              2.637874       1.775311      0.365887   \n",
       "\n",
       "        Age  AveMonthSpend  \n",
       "0 -0.396685             89  \n",
       "1 -0.307694            117  \n",
       "2 -0.307694            123  \n",
       "3 -0.574666             50  \n",
       "4 -0.574666             95  "
      ]
     },
     "execution_count": 3,
     "metadata": {},
     "output_type": "execute_result"
    }
   ],
   "source": [
    "df.head()"
   ]
  },
  {
   "cell_type": "markdown",
   "metadata": {},
   "source": [
    "### Split data and start training"
   ]
  },
  {
   "cell_type": "code",
   "execution_count": 5,
   "metadata": {},
   "outputs": [],
   "source": [
    "X = df.iloc[:,0:16]\n",
    "y = df.iloc[:,16]"
   ]
  },
  {
   "cell_type": "code",
   "execution_count": 6,
   "metadata": {},
   "outputs": [
    {
     "data": {
      "text/html": [
       "<div>\n",
       "<style scoped>\n",
       "    .dataframe tbody tr th:only-of-type {\n",
       "        vertical-align: middle;\n",
       "    }\n",
       "\n",
       "    .dataframe tbody tr th {\n",
       "        vertical-align: top;\n",
       "    }\n",
       "\n",
       "    .dataframe thead th {\n",
       "        text-align: right;\n",
       "    }\n",
       "</style>\n",
       "<table border=\"1\" class=\"dataframe\">\n",
       "  <thead>\n",
       "    <tr style=\"text-align: right;\">\n",
       "      <th></th>\n",
       "      <th>0</th>\n",
       "      <th>1</th>\n",
       "      <th>2</th>\n",
       "      <th>3</th>\n",
       "      <th>4</th>\n",
       "      <th>5</th>\n",
       "      <th>6</th>\n",
       "      <th>7</th>\n",
       "      <th>Gender</th>\n",
       "      <th>MaritalStatus</th>\n",
       "      <th>HomeOwnerFlag</th>\n",
       "      <th>NumberCarsOwned</th>\n",
       "      <th>NumberChildrenAtHome</th>\n",
       "      <th>TotalChildren</th>\n",
       "      <th>YearlyIncome</th>\n",
       "      <th>Age</th>\n",
       "    </tr>\n",
       "  </thead>\n",
       "  <tbody>\n",
       "    <tr>\n",
       "      <th>0</th>\n",
       "      <td>0</td>\n",
       "      <td>0</td>\n",
       "      <td>0</td>\n",
       "      <td>0</td>\n",
       "      <td>0</td>\n",
       "      <td>0</td>\n",
       "      <td>1</td>\n",
       "      <td>0</td>\n",
       "      <td>1</td>\n",
       "      <td>0</td>\n",
       "      <td>1</td>\n",
       "      <td>-1.320246</td>\n",
       "      <td>-0.656710</td>\n",
       "      <td>-0.006876</td>\n",
       "      <td>1.502657</td>\n",
       "      <td>-0.396685</td>\n",
       "    </tr>\n",
       "    <tr>\n",
       "      <th>1</th>\n",
       "      <td>0</td>\n",
       "      <td>0</td>\n",
       "      <td>0</td>\n",
       "      <td>0</td>\n",
       "      <td>0</td>\n",
       "      <td>0</td>\n",
       "      <td>1</td>\n",
       "      <td>0</td>\n",
       "      <td>1</td>\n",
       "      <td>1</td>\n",
       "      <td>0</td>\n",
       "      <td>-0.442232</td>\n",
       "      <td>1.320040</td>\n",
       "      <td>0.587186</td>\n",
       "      <td>0.576502</td>\n",
       "      <td>-0.307694</td>\n",
       "    </tr>\n",
       "    <tr>\n",
       "      <th>2</th>\n",
       "      <td>0</td>\n",
       "      <td>0</td>\n",
       "      <td>0</td>\n",
       "      <td>0</td>\n",
       "      <td>0</td>\n",
       "      <td>0</td>\n",
       "      <td>1</td>\n",
       "      <td>0</td>\n",
       "      <td>1</td>\n",
       "      <td>0</td>\n",
       "      <td>1</td>\n",
       "      <td>-0.442232</td>\n",
       "      <td>1.320040</td>\n",
       "      <td>0.587186</td>\n",
       "      <td>0.345102</td>\n",
       "      <td>-0.307694</td>\n",
       "    </tr>\n",
       "    <tr>\n",
       "      <th>3</th>\n",
       "      <td>0</td>\n",
       "      <td>0</td>\n",
       "      <td>0</td>\n",
       "      <td>0</td>\n",
       "      <td>0</td>\n",
       "      <td>0</td>\n",
       "      <td>1</td>\n",
       "      <td>0</td>\n",
       "      <td>0</td>\n",
       "      <td>1</td>\n",
       "      <td>0</td>\n",
       "      <td>-0.442232</td>\n",
       "      <td>-0.656710</td>\n",
       "      <td>-1.195002</td>\n",
       "      <td>0.212819</td>\n",
       "      <td>-0.574666</td>\n",
       "    </tr>\n",
       "    <tr>\n",
       "      <th>4</th>\n",
       "      <td>0</td>\n",
       "      <td>0</td>\n",
       "      <td>0</td>\n",
       "      <td>0</td>\n",
       "      <td>0</td>\n",
       "      <td>0</td>\n",
       "      <td>1</td>\n",
       "      <td>0</td>\n",
       "      <td>0</td>\n",
       "      <td>1</td>\n",
       "      <td>1</td>\n",
       "      <td>2.191812</td>\n",
       "      <td>2.637874</td>\n",
       "      <td>1.775311</td>\n",
       "      <td>0.365887</td>\n",
       "      <td>-0.574666</td>\n",
       "    </tr>\n",
       "  </tbody>\n",
       "</table>\n",
       "</div>"
      ],
      "text/plain": [
       "   0  1  2  3  4  5  6  7  Gender  MaritalStatus  HomeOwnerFlag  \\\n",
       "0  0  0  0  0  0  0  1  0       1              0              1   \n",
       "1  0  0  0  0  0  0  1  0       1              1              0   \n",
       "2  0  0  0  0  0  0  1  0       1              0              1   \n",
       "3  0  0  0  0  0  0  1  0       0              1              0   \n",
       "4  0  0  0  0  0  0  1  0       0              1              1   \n",
       "\n",
       "   NumberCarsOwned  NumberChildrenAtHome  TotalChildren  YearlyIncome  \\\n",
       "0        -1.320246             -0.656710      -0.006876      1.502657   \n",
       "1        -0.442232              1.320040       0.587186      0.576502   \n",
       "2        -0.442232              1.320040       0.587186      0.345102   \n",
       "3        -0.442232             -0.656710      -1.195002      0.212819   \n",
       "4         2.191812              2.637874       1.775311      0.365887   \n",
       "\n",
       "        Age  \n",
       "0 -0.396685  \n",
       "1 -0.307694  \n",
       "2 -0.307694  \n",
       "3 -0.574666  \n",
       "4 -0.574666  "
      ]
     },
     "execution_count": 6,
     "metadata": {},
     "output_type": "execute_result"
    }
   ],
   "source": [
    "X.head()"
   ]
  },
  {
   "cell_type": "code",
   "execution_count": 7,
   "metadata": {},
   "outputs": [
    {
     "data": {
      "text/plain": [
       "0     89\n",
       "1    117\n",
       "2    123\n",
       "3     50\n",
       "4     95\n",
       "Name: AveMonthSpend, dtype: int64"
      ]
     },
     "execution_count": 7,
     "metadata": {},
     "output_type": "execute_result"
    }
   ],
   "source": [
    "y.head()"
   ]
  },
  {
   "cell_type": "code",
   "execution_count": 8,
   "metadata": {},
   "outputs": [
    {
     "data": {
      "text/plain": [
       "(array([[ 0.        ,  0.        ,  0.        , ..., -0.00687645,\n",
       "          1.50265655, -0.39668469],\n",
       "        [ 0.        ,  0.        ,  0.        , ...,  0.58718608,\n",
       "          0.5765021 , -0.30769417],\n",
       "        [ 0.        ,  0.        ,  0.        , ...,  0.58718608,\n",
       "          0.34510189, -0.30769417],\n",
       "        ...,\n",
       "        [ 0.        ,  0.        ,  0.        , ...,  1.77531115,\n",
       "          1.37950816,  1.91706882],\n",
       "        [ 0.        ,  1.        ,  0.        , ...,  1.18124862,\n",
       "         -1.16506383,  1.3831257 ],\n",
       "        [ 0.        ,  1.        ,  0.        , ...,  1.18124862,\n",
       "         -0.47428537,  1.47211622]]),\n",
       " array([ 89, 117, 123, ...,  79,  65,  68], dtype=int64))"
      ]
     },
     "execution_count": 8,
     "metadata": {},
     "output_type": "execute_result"
    }
   ],
   "source": [
    "X.values, y.values"
   ]
  },
  {
   "cell_type": "code",
   "execution_count": 10,
   "metadata": {},
   "outputs": [],
   "source": [
    "X_train,X_test,y_train,y_test = train_test_split(X,y,test_size=0.2,random_state=1234)"
   ]
  },
  {
   "cell_type": "code",
   "execution_count": 11,
   "metadata": {},
   "outputs": [
    {
     "data": {
      "text/plain": [
       "(13215, 16)"
      ]
     },
     "execution_count": 11,
     "metadata": {},
     "output_type": "execute_result"
    }
   ],
   "source": [
    "X_train.shape"
   ]
  },
  {
   "cell_type": "code",
   "execution_count": 13,
   "metadata": {},
   "outputs": [
    {
     "data": {
      "text/plain": [
       "(3304, 16)"
      ]
     },
     "execution_count": 13,
     "metadata": {},
     "output_type": "execute_result"
    }
   ],
   "source": [
    "X_test.shape"
   ]
  },
  {
   "cell_type": "code",
   "execution_count": 15,
   "metadata": {},
   "outputs": [],
   "source": [
    "model = GradientBoostingRegressor(random_state=1234)"
   ]
  },
  {
   "cell_type": "markdown",
   "metadata": {},
   "source": [
    "### Perform cross-validation"
   ]
  },
  {
   "cell_type": "code",
   "execution_count": 22,
   "metadata": {},
   "outputs": [
    {
     "data": {
      "text/plain": [
       "array([-10.37905538, -10.13506761, -10.14967651,  -9.84431469,\n",
       "       -10.59125289])"
      ]
     },
     "execution_count": 22,
     "metadata": {},
     "output_type": "execute_result"
    }
   ],
   "source": [
    "score = cross_val_score(model,X,y,cv=5, scoring='neg_mean_squared_error')\n",
    "score"
   ]
  },
  {
   "cell_type": "code",
   "execution_count": 23,
   "metadata": {},
   "outputs": [
    {
     "data": {
      "text/plain": [
       "-10.219873416016252"
      ]
     },
     "execution_count": 23,
     "metadata": {},
     "output_type": "execute_result"
    }
   ],
   "source": [
    "score.mean()"
   ]
  },
  {
   "cell_type": "markdown",
   "metadata": {},
   "source": [
    "### Fit and do prediction"
   ]
  },
  {
   "cell_type": "code",
   "execution_count": 24,
   "metadata": {},
   "outputs": [
    {
     "data": {
      "text/plain": [
       "GradientBoostingRegressor(alpha=0.9, ccp_alpha=0.0, criterion='friedman_mse',\n",
       "                          init=None, learning_rate=0.1, loss='ls', max_depth=3,\n",
       "                          max_features=None, max_leaf_nodes=None,\n",
       "                          min_impurity_decrease=0.0, min_impurity_split=None,\n",
       "                          min_samples_leaf=1, min_samples_split=2,\n",
       "                          min_weight_fraction_leaf=0.0, n_estimators=100,\n",
       "                          n_iter_no_change=None, presort='deprecated',\n",
       "                          random_state=1234, subsample=1.0, tol=0.0001,\n",
       "                          validation_fraction=0.1, verbose=0, warm_start=False)"
      ]
     },
     "execution_count": 24,
     "metadata": {},
     "output_type": "execute_result"
    }
   ],
   "source": [
    "model.fit(X_train,y_train)"
   ]
  },
  {
   "cell_type": "code",
   "execution_count": 25,
   "metadata": {},
   "outputs": [],
   "source": [
    "y_pred = model.predict(X_test)"
   ]
  },
  {
   "cell_type": "code",
   "execution_count": 26,
   "metadata": {},
   "outputs": [
    {
     "data": {
      "text/plain": [
       "array([ 51.04952737, 139.07355186,  49.25587648, ...,  62.47957124,\n",
       "        81.35402071,  80.38546144])"
      ]
     },
     "execution_count": 26,
     "metadata": {},
     "output_type": "execute_result"
    }
   ],
   "source": [
    "y_pred"
   ]
  },
  {
   "cell_type": "markdown",
   "metadata": {},
   "source": [
    "### Model evaluation"
   ]
  },
  {
   "cell_type": "code",
   "execution_count": 31,
   "metadata": {},
   "outputs": [
    {
     "data": {
      "text/plain": [
       "2.5154368023920197"
      ]
     },
     "execution_count": 31,
     "metadata": {},
     "output_type": "execute_result"
    }
   ],
   "source": [
    "mae = mean_absolute_error(y_test,y_pred)\n",
    "mae"
   ]
  },
  {
   "cell_type": "code",
   "execution_count": 32,
   "metadata": {},
   "outputs": [
    {
     "data": {
      "text/plain": [
       "9.954290451168086"
      ]
     },
     "execution_count": 32,
     "metadata": {},
     "output_type": "execute_result"
    }
   ],
   "source": [
    "mse = mean_squared_error(y_test,y_pred)\n",
    "mse"
   ]
  },
  {
   "cell_type": "code",
   "execution_count": 33,
   "metadata": {},
   "outputs": [
    {
     "data": {
      "text/plain": [
       "3.155042068050454"
      ]
     },
     "execution_count": 33,
     "metadata": {},
     "output_type": "execute_result"
    }
   ],
   "source": [
    "rmse = np.sqrt(mse)\n",
    "rmse"
   ]
  },
  {
   "cell_type": "code",
   "execution_count": 35,
   "metadata": {},
   "outputs": [
    {
     "data": {
      "text/plain": [
       "0.9873669315691596"
      ]
     },
     "execution_count": 35,
     "metadata": {},
     "output_type": "execute_result"
    }
   ],
   "source": [
    "R2score = r2_score(y_test,y_pred)\n",
    "R2score"
   ]
  },
  {
   "cell_type": "markdown",
   "metadata": {},
   "source": [
    "### Load test data and predict"
   ]
  },
  {
   "cell_type": "code",
   "execution_count": 36,
   "metadata": {},
   "outputs": [],
   "source": [
    "test = pd.read_csv(\"testregressor.csv\")"
   ]
  },
  {
   "cell_type": "code",
   "execution_count": 37,
   "metadata": {},
   "outputs": [
    {
     "data": {
      "text/html": [
       "<div>\n",
       "<style scoped>\n",
       "    .dataframe tbody tr th:only-of-type {\n",
       "        vertical-align: middle;\n",
       "    }\n",
       "\n",
       "    .dataframe tbody tr th {\n",
       "        vertical-align: top;\n",
       "    }\n",
       "\n",
       "    .dataframe thead th {\n",
       "        text-align: right;\n",
       "    }\n",
       "</style>\n",
       "<table border=\"1\" class=\"dataframe\">\n",
       "  <thead>\n",
       "    <tr style=\"text-align: right;\">\n",
       "      <th></th>\n",
       "      <th>0</th>\n",
       "      <th>1</th>\n",
       "      <th>2</th>\n",
       "      <th>3</th>\n",
       "      <th>4</th>\n",
       "      <th>5</th>\n",
       "      <th>6</th>\n",
       "      <th>7</th>\n",
       "      <th>Gender</th>\n",
       "      <th>MaritalStatus</th>\n",
       "      <th>HomeOwnerFlag</th>\n",
       "      <th>NumberCarsOwned</th>\n",
       "      <th>NumberChildrenAtHome</th>\n",
       "      <th>TotalChildren</th>\n",
       "      <th>YearlyIncome</th>\n",
       "      <th>Age</th>\n",
       "    </tr>\n",
       "  </thead>\n",
       "  <tbody>\n",
       "    <tr>\n",
       "      <th>0</th>\n",
       "      <td>0</td>\n",
       "      <td>0</td>\n",
       "      <td>0</td>\n",
       "      <td>0</td>\n",
       "      <td>1</td>\n",
       "      <td>0</td>\n",
       "      <td>0</td>\n",
       "      <td>0</td>\n",
       "      <td>0</td>\n",
       "      <td>1</td>\n",
       "      <td>0</td>\n",
       "      <td>0.435783</td>\n",
       "      <td>-0.656710</td>\n",
       "      <td>1.775311</td>\n",
       "      <td>0.218934</td>\n",
       "      <td>1.472116</td>\n",
       "    </tr>\n",
       "    <tr>\n",
       "      <th>1</th>\n",
       "      <td>0</td>\n",
       "      <td>0</td>\n",
       "      <td>0</td>\n",
       "      <td>0</td>\n",
       "      <td>0</td>\n",
       "      <td>0</td>\n",
       "      <td>0</td>\n",
       "      <td>1</td>\n",
       "      <td>1</td>\n",
       "      <td>0</td>\n",
       "      <td>1</td>\n",
       "      <td>0.435783</td>\n",
       "      <td>0.661124</td>\n",
       "      <td>1.181249</td>\n",
       "      <td>0.550936</td>\n",
       "      <td>-0.218704</td>\n",
       "    </tr>\n",
       "    <tr>\n",
       "      <th>2</th>\n",
       "      <td>1</td>\n",
       "      <td>0</td>\n",
       "      <td>0</td>\n",
       "      <td>0</td>\n",
       "      <td>1</td>\n",
       "      <td>0</td>\n",
       "      <td>0</td>\n",
       "      <td>0</td>\n",
       "      <td>0</td>\n",
       "      <td>0</td>\n",
       "      <td>1</td>\n",
       "      <td>0.435783</td>\n",
       "      <td>-0.656710</td>\n",
       "      <td>1.181249</td>\n",
       "      <td>0.648066</td>\n",
       "      <td>2.451012</td>\n",
       "    </tr>\n",
       "    <tr>\n",
       "      <th>3</th>\n",
       "      <td>1</td>\n",
       "      <td>0</td>\n",
       "      <td>0</td>\n",
       "      <td>0</td>\n",
       "      <td>0</td>\n",
       "      <td>0</td>\n",
       "      <td>0</td>\n",
       "      <td>1</td>\n",
       "      <td>1</td>\n",
       "      <td>0</td>\n",
       "      <td>1</td>\n",
       "      <td>-1.320246</td>\n",
       "      <td>-0.656710</td>\n",
       "      <td>1.181249</td>\n",
       "      <td>1.231247</td>\n",
       "      <td>0.315239</td>\n",
       "    </tr>\n",
       "    <tr>\n",
       "      <th>4</th>\n",
       "      <td>0</td>\n",
       "      <td>1</td>\n",
       "      <td>0</td>\n",
       "      <td>0</td>\n",
       "      <td>0</td>\n",
       "      <td>1</td>\n",
       "      <td>0</td>\n",
       "      <td>0</td>\n",
       "      <td>0</td>\n",
       "      <td>0</td>\n",
       "      <td>1</td>\n",
       "      <td>-0.442232</td>\n",
       "      <td>0.661124</td>\n",
       "      <td>-0.006876</td>\n",
       "      <td>-1.418054</td>\n",
       "      <td>-0.307694</td>\n",
       "    </tr>\n",
       "  </tbody>\n",
       "</table>\n",
       "</div>"
      ],
      "text/plain": [
       "   0  1  2  3  4  5  6  7  Gender  MaritalStatus  HomeOwnerFlag  \\\n",
       "0  0  0  0  0  1  0  0  0       0              1              0   \n",
       "1  0  0  0  0  0  0  0  1       1              0              1   \n",
       "2  1  0  0  0  1  0  0  0       0              0              1   \n",
       "3  1  0  0  0  0  0  0  1       1              0              1   \n",
       "4  0  1  0  0  0  1  0  0       0              0              1   \n",
       "\n",
       "   NumberCarsOwned  NumberChildrenAtHome  TotalChildren  YearlyIncome  \\\n",
       "0         0.435783             -0.656710       1.775311      0.218934   \n",
       "1         0.435783              0.661124       1.181249      0.550936   \n",
       "2         0.435783             -0.656710       1.181249      0.648066   \n",
       "3        -1.320246             -0.656710       1.181249      1.231247   \n",
       "4        -0.442232              0.661124      -0.006876     -1.418054   \n",
       "\n",
       "        Age  \n",
       "0  1.472116  \n",
       "1 -0.218704  \n",
       "2  2.451012  \n",
       "3  0.315239  \n",
       "4 -0.307694  "
      ]
     },
     "execution_count": 37,
     "metadata": {},
     "output_type": "execute_result"
    }
   ],
   "source": [
    "test.head()"
   ]
  },
  {
   "cell_type": "code",
   "execution_count": 38,
   "metadata": {},
   "outputs": [
    {
     "data": {
      "text/plain": [
       "(500, 16)"
      ]
     },
     "execution_count": 38,
     "metadata": {},
     "output_type": "execute_result"
    }
   ],
   "source": [
    "test.shape"
   ]
  },
  {
   "cell_type": "code",
   "execution_count": 39,
   "metadata": {},
   "outputs": [
    {
     "data": {
      "text/plain": [
       "array([[ 0.        ,  0.        ,  0.        , ...,  1.77531115,\n",
       "         0.21893391,  1.47211622],\n",
       "       [ 0.        ,  0.        ,  0.        , ...,  1.18124862,\n",
       "         0.55093635, -0.21870365],\n",
       "       [ 1.        ,  0.        ,  0.        , ...,  1.18124862,\n",
       "         0.64806607,  2.45101194],\n",
       "       ...,\n",
       "       [ 0.        ,  0.        ,  0.        , ...,  0.58718608,\n",
       "         1.50643102,  2.18404038],\n",
       "       [ 0.        ,  0.        ,  1.        , ..., -0.00687645,\n",
       "         0.58465496,  0.40422998],\n",
       "       [ 0.        ,  1.        ,  0.        , ...,  1.18124862,\n",
       "        -1.48770559,  1.29413518]])"
      ]
     },
     "execution_count": 39,
     "metadata": {},
     "output_type": "execute_result"
    }
   ],
   "source": [
    "test.values"
   ]
  },
  {
   "cell_type": "code",
   "execution_count": 40,
   "metadata": {},
   "outputs": [],
   "source": [
    "y_pred2 = model.predict(test)"
   ]
  },
  {
   "cell_type": "code",
   "execution_count": 41,
   "metadata": {},
   "outputs": [
    {
     "data": {
      "text/plain": [
       "array([ 46.94023614, 113.02756108,  46.04870674,  86.06545079,\n",
       "        61.22953579,  47.70987803,  92.91790192, 141.40253358,\n",
       "        99.53980721,  54.65060749,  57.73161022,  53.18442954,\n",
       "        72.80075933,  49.48464757,  40.51214681,  53.80704489,\n",
       "        83.30913614,  71.85273927,  98.45156269,  59.54148265,\n",
       "        66.54446441,  74.42825635, 166.18683793,  83.47950839,\n",
       "        54.79525098,  68.68912979,  86.38025338, 123.5840566 ,\n",
       "        77.18492745,  60.99921741,  64.73272796,  79.44770998,\n",
       "        45.06479134,  69.76494704,  96.24511265,  98.94201954,\n",
       "       166.69035635,  93.7304523 ,  55.18450057,  86.38025338,\n",
       "        49.80242945,  78.26868114,  78.88659935,  51.65543141,\n",
       "        56.93775022,  74.42825635,  61.92703236,  80.35989323,\n",
       "       121.70812739,  80.17549157,  77.07169097,  88.33779127,\n",
       "        77.87782415,  63.12879767,  50.2882531 ,  76.08832325,\n",
       "        56.77471527,  73.24008284,  60.65230766,  66.25531832,\n",
       "        48.4910548 ,  63.32389832,  89.01761532,  79.28225811,\n",
       "        47.17203947,  76.80935441,  77.7915213 , 150.04884251,\n",
       "        60.8823023 ,  96.41821533,  80.18290964,  66.24334214,\n",
       "        95.27825061,  48.32458794,  63.86728267,  79.28225811,\n",
       "       109.32984611,  61.90551457,  57.95486156,  49.29868348,\n",
       "        84.02587619,  71.71182592,  51.09780534,  84.26686599,\n",
       "        86.74875475,  49.74411449,  82.75740542, 128.21922655,\n",
       "        95.34658503,  55.63826657,  49.51192298,  88.33779127,\n",
       "        47.78339795,  51.47832735,  42.9922052 , 151.93119552,\n",
       "        55.20475455,  52.25361653,  48.74114607,  54.22264352,\n",
       "        98.83962016,  71.32081425,  51.46143687, 127.22368751,\n",
       "        83.47950839, 108.99519527,  39.9268162 ,  46.35047618,\n",
       "        48.81301606,  60.66657565,  88.73020867,  50.0125649 ,\n",
       "        80.18290964,  62.6835939 ,  71.76615238,  85.23236636,\n",
       "        43.34960611,  43.42012277,  49.02868321,  87.61993346,\n",
       "       135.76101066,  84.02587619,  78.78218203,  43.48097597,\n",
       "        74.80643302,  57.34368929,  64.79780252,  88.59360741,\n",
       "        86.90362278, 119.35829247,  42.26946392,  87.55202648,\n",
       "       122.97857879,  47.06214154,  52.63836416, 102.63150397,\n",
       "       167.08511091,  82.75740542,  82.56142106,  82.14090497,\n",
       "        86.23582304,  47.52760071, 125.41452919,  39.60704835,\n",
       "        73.78124577,  59.87649857,  53.34852096,  42.92464885,\n",
       "        60.67754904,  60.577516  ,  91.42054931,  65.17647749,\n",
       "        67.76853625,  76.09250846, 106.83126282,  40.73081448,\n",
       "        75.24116963,  58.26426841,  75.52853599,  88.19155266,\n",
       "        42.27053364,  68.50932046,  59.36302276,  99.50384791,\n",
       "        99.59444227,  57.71885546,  89.73067332, 105.69840104,\n",
       "        87.87133911,  42.26946392,  79.15467487,  73.8470399 ,\n",
       "        77.5270852 ,  81.79886996,  47.10709334,  40.19149453,\n",
       "       102.08304375,  72.80075933,  48.41908727, 149.85112776,\n",
       "        40.10028878,  45.23134579,  96.91246894,  67.11245659,\n",
       "        38.95982612,  46.3346479 ,  60.82437506,  63.5115956 ,\n",
       "        52.87320215,  57.84099539,  80.21275482,  77.98234956,\n",
       "        76.08832325,  84.56310951,  81.30410365,  65.71080956,\n",
       "        50.0125649 ,  74.42825635,  48.96297907,  87.42986927,\n",
       "        56.55563792,  78.94230548,  40.01758929,  76.36260185,\n",
       "       145.40154883,  80.71311008, 104.82364928,  99.25421392,\n",
       "        69.79977858,  61.86201963,  77.12322244,  66.2301329 ,\n",
       "       128.45977726,  47.4456509 ,  49.34390552,  74.80643302,\n",
       "        48.44492513,  56.40937951,  78.94807427,  80.12658806,\n",
       "        45.34523451,  72.76361004,  92.16891394,  62.29375909,\n",
       "        56.52635701,  48.66927875,  59.0248695 ,  89.25219468,\n",
       "        81.48230441,  89.07521947,  89.97521084,  49.49307915,\n",
       "        69.72865057,  66.22235228, 114.9495514 ,  67.31998321,\n",
       "        88.80021789,  95.00615788,  47.4456509 ,  71.59427847,\n",
       "        84.91290625,  62.1245247 ,  44.27641734,  57.78476316,\n",
       "        66.60617567,  49.71090488,  76.08832325,  66.53374746,\n",
       "        76.59624184,  84.0631005 ,  99.53304474,  55.22260735,\n",
       "        53.40039638,  43.25119075, 145.86612466,  88.10420757,\n",
       "        52.67697551,  77.74113819, 133.32809213,  78.10732285,\n",
       "        43.42523516,  67.63573014,  84.32004597,  62.54155669,\n",
       "        70.07288704,  64.73272796,  48.34651878,  77.18492745,\n",
       "       112.22590797,  59.00024971,  97.55549436,  47.05159124,\n",
       "        85.4761942 ,  64.65295797, 110.48968041,  43.63039077,\n",
       "       151.96399826,  51.38805224, 108.67528578,  73.03548656,\n",
       "        90.30294513,  57.57259705,  68.92706256,  55.13942098,\n",
       "        52.81914679,  38.94919812,  72.98222639,  44.6291475 ,\n",
       "        50.28272945,  66.5242013 ,  77.59854125,  53.0928793 ,\n",
       "        86.38025338, 161.40147617,  74.23426181, 112.47101904,\n",
       "       151.41540678,  43.63039077,  64.65295797,  40.24516639,\n",
       "        49.80242945,  56.45896504, 112.34593779, 106.4759257 ,\n",
       "        77.06458002,  39.80973928,  88.51642835, 165.59728142,\n",
       "       135.37161097,  72.04761659,  45.11761501,  96.91246894,\n",
       "       166.93529189,  55.0933633 ,  79.41205676,  45.58658418,\n",
       "        40.95598518,  62.93630886, 152.39979637,  72.17173786,\n",
       "        71.0097622 ,  63.99432648,  51.39023807,  41.15628121,\n",
       "       145.52237402,  56.30996251,  47.4456509 ,  79.02149837,\n",
       "        56.88754885,  49.80242945,  84.34201696,  82.06677996,\n",
       "       109.63907429,  56.7146067 ,  66.60617567, 103.96888514,\n",
       "        77.90703043,  43.6810636 , 127.24888213,  49.75616952,\n",
       "        91.09825636,  73.23613775,  71.60181457,  75.82440864,\n",
       "        74.19226467,  61.10616744,  77.2805353 ,  56.30702267,\n",
       "       100.97984042,  79.19500901,  70.19138892,  77.82363476,\n",
       "        47.83326334,  58.28333301,  51.88281981,  83.66236971,\n",
       "        79.28225811,  55.74411719,  58.72365417,  54.64407783,\n",
       "        97.85289473,  69.10817224,  75.10616551,  73.79949277,\n",
       "        66.25531832,  61.3981743 ,  47.05159124,  53.5946755 ,\n",
       "        48.51858248,  62.49778312, 148.96601632,  46.19479593,\n",
       "        91.80085048,  68.9585917 ,  79.79049224,  49.41001205,\n",
       "        73.55008661,  49.18303438,  45.76012428, 150.59551596,\n",
       "        98.27367246,  77.32062641,  39.55517986,  70.293519  ,\n",
       "        49.34390552,  79.49338669, 121.78293907,  48.90495777,\n",
       "        87.77882237,  78.12574866,  89.21862601,  56.16836665,\n",
       "       121.14744478,  68.12041352,  49.34390552,  74.70668549,\n",
       "        79.49316075,  41.48537402,  62.43215752,  73.12495343,\n",
       "        47.31591921, 152.39979637, 120.33898365,  92.68695882,\n",
       "        58.80616081,  85.03356783, 107.91852766,  46.78822109,\n",
       "        80.17549157,  50.76668187, 112.62820723,  63.89900992,\n",
       "        72.94969998,  58.42555808,  86.90362278,  70.57403378,\n",
       "        83.60822345, 165.38204507, 100.82675423,  66.50208125,\n",
       "        70.54664037,  40.93143583,  55.18665935,  66.41634682,\n",
       "        55.68371734,  46.78822109,  51.70370938,  59.43887607,\n",
       "        58.46579772,  62.07337596,  43.34960611, 103.50371974,\n",
       "        93.80025043, 126.95839864, 108.85203024,  78.01767601,\n",
       "        66.05056439,  70.81009951,  74.19226467,  75.43607673,\n",
       "        53.80704489,  97.18506616,  88.48066415, 103.01466167,\n",
       "        43.63204609,  75.85076604,  49.45526322, 110.09660634,\n",
       "        59.37061892,  49.41001205,  44.75356913, 123.5840566 ,\n",
       "        83.05998411,  53.41219199,  76.26388196,  53.02220973,\n",
       "        78.39570414,  68.17201573,  51.65543141,  94.55514217,\n",
       "        77.50054653,  40.95598518, 105.69840104,  42.39945905,\n",
       "        92.41997436,  74.96089442,  54.61909987,  87.79053594,\n",
       "        53.04947127,  58.97631327,  48.83581261,  85.17624568,\n",
       "        92.43830853,  50.81353569,  58.72219468,  65.33277684,\n",
       "        64.89333117, 146.15383063, 134.50032053, 143.72804485,\n",
       "       138.3831773 ,  80.95476807, 101.77252446,  74.49418779,\n",
       "        72.44908065,  36.20314179, 164.37656968,  53.41462749,\n",
       "        89.252544  ,  87.90095203,  62.15403795,  89.51200902,\n",
       "       142.50625724,  73.01701932,  55.38262491,  50.15865265,\n",
       "        85.14804573,  72.2628427 ,  55.26879963,  38.39781812])"
      ]
     },
     "execution_count": 41,
     "metadata": {},
     "output_type": "execute_result"
    }
   ],
   "source": [
    "y_pred2"
   ]
  },
  {
   "cell_type": "markdown",
   "metadata": {},
   "source": [
    "### Save the results "
   ]
  },
  {
   "cell_type": "code",
   "execution_count": 42,
   "metadata": {},
   "outputs": [],
   "source": [
    "regresult = pd.DataFrame(y_pred2,columns=['AveMonthSpend'])"
   ]
  },
  {
   "cell_type": "code",
   "execution_count": 43,
   "metadata": {},
   "outputs": [
    {
     "data": {
      "text/html": [
       "<div>\n",
       "<style scoped>\n",
       "    .dataframe tbody tr th:only-of-type {\n",
       "        vertical-align: middle;\n",
       "    }\n",
       "\n",
       "    .dataframe tbody tr th {\n",
       "        vertical-align: top;\n",
       "    }\n",
       "\n",
       "    .dataframe thead th {\n",
       "        text-align: right;\n",
       "    }\n",
       "</style>\n",
       "<table border=\"1\" class=\"dataframe\">\n",
       "  <thead>\n",
       "    <tr style=\"text-align: right;\">\n",
       "      <th></th>\n",
       "      <th>AveMonthSpend</th>\n",
       "    </tr>\n",
       "  </thead>\n",
       "  <tbody>\n",
       "    <tr>\n",
       "      <th>0</th>\n",
       "      <td>46.940236</td>\n",
       "    </tr>\n",
       "    <tr>\n",
       "      <th>1</th>\n",
       "      <td>113.027561</td>\n",
       "    </tr>\n",
       "    <tr>\n",
       "      <th>2</th>\n",
       "      <td>46.048707</td>\n",
       "    </tr>\n",
       "    <tr>\n",
       "      <th>3</th>\n",
       "      <td>86.065451</td>\n",
       "    </tr>\n",
       "    <tr>\n",
       "      <th>4</th>\n",
       "      <td>61.229536</td>\n",
       "    </tr>\n",
       "    <tr>\n",
       "      <th>...</th>\n",
       "      <td>...</td>\n",
       "    </tr>\n",
       "    <tr>\n",
       "      <th>495</th>\n",
       "      <td>50.158653</td>\n",
       "    </tr>\n",
       "    <tr>\n",
       "      <th>496</th>\n",
       "      <td>85.148046</td>\n",
       "    </tr>\n",
       "    <tr>\n",
       "      <th>497</th>\n",
       "      <td>72.262843</td>\n",
       "    </tr>\n",
       "    <tr>\n",
       "      <th>498</th>\n",
       "      <td>55.268800</td>\n",
       "    </tr>\n",
       "    <tr>\n",
       "      <th>499</th>\n",
       "      <td>38.397818</td>\n",
       "    </tr>\n",
       "  </tbody>\n",
       "</table>\n",
       "<p>500 rows × 1 columns</p>\n",
       "</div>"
      ],
      "text/plain": [
       "     AveMonthSpend\n",
       "0        46.940236\n",
       "1       113.027561\n",
       "2        46.048707\n",
       "3        86.065451\n",
       "4        61.229536\n",
       "..             ...\n",
       "495      50.158653\n",
       "496      85.148046\n",
       "497      72.262843\n",
       "498      55.268800\n",
       "499      38.397818\n",
       "\n",
       "[500 rows x 1 columns]"
      ]
     },
     "execution_count": 43,
     "metadata": {},
     "output_type": "execute_result"
    }
   ],
   "source": [
    "regresult"
   ]
  },
  {
   "cell_type": "code",
   "execution_count": 44,
   "metadata": {},
   "outputs": [],
   "source": [
    "#regresult.to_csv(\"r2result.csv\",index=False)"
   ]
  },
  {
   "cell_type": "code",
   "execution_count": null,
   "metadata": {},
   "outputs": [],
   "source": []
  }
 ],
 "metadata": {
  "kernelspec": {
   "display_name": "Python 3",
   "language": "python",
   "name": "python3"
  },
  "language_info": {
   "codemirror_mode": {
    "name": "ipython",
    "version": 3
   },
   "file_extension": ".py",
   "mimetype": "text/x-python",
   "name": "python",
   "nbconvert_exporter": "python",
   "pygments_lexer": "ipython3",
   "version": "3.7.6"
  }
 },
 "nbformat": 4,
 "nbformat_minor": 2
}
